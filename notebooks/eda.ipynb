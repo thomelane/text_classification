{
 "cells": [
  {
   "cell_type": "markdown",
   "id": "628d7b58",
   "metadata": {},
   "source": [
    "# Exploratory Data Analysis (EDA)"
   ]
  },
  {
   "cell_type": "code",
   "execution_count": 1,
   "id": "2cdcd29e",
   "metadata": {
    "lines_to_next_cell": 2
   },
   "outputs": [],
   "source": [
    "import pandas as pd\n",
    "\n",
    "from text_classification import defs"
   ]
  },
  {
   "cell_type": "markdown",
   "id": "5a1b11d9",
   "metadata": {},
   "source": [
    "Get source assets."
   ]
  },
  {
   "cell_type": "code",
   "execution_count": 2,
   "id": "e9bea5c5",
   "metadata": {},
   "outputs": [
    {
     "name": "stderr",
     "output_type": "stream",
     "text": [
      "2023-02-12 23:31:48 +0000 - dagster - DEBUG - system - Loading file from: /Users/thomelane/Projects/text_classification/data/storage/source_train\n",
      "2023-02-12 23:31:48 +0000 - dagster - DEBUG - system - Loading file from: /Users/thomelane/Projects/text_classification/data/storage/source_test\n"
     ]
    }
   ],
   "source": [
    "train_df: pd.DataFrame = pd.DataFrame(defs.load_asset_value(\"source_train\"))  # type: ignore\n",
    "test_df: pd.DataFrame = pd.DataFrame(defs.load_asset_value(\"source_test\"))  # type: ignore"
   ]
  },
  {
   "cell_type": "markdown",
   "id": "390687b0",
   "metadata": {},
   "source": [
    "## Samples"
   ]
  },
  {
   "cell_type": "code",
   "execution_count": 3,
   "id": "30993153",
   "metadata": {},
   "outputs": [
    {
     "name": "stdout",
     "output_type": "stream",
     "text": [
      "Samples in train_df: 65,000\n",
      "Samples in test_df: 34,171\n"
     ]
    }
   ],
   "source": [
    "print(f\"Samples in train_df: {len(train_df):,}\")\n",
    "print(f\"Samples in test_df: {len(test_df):,}\")"
   ]
  },
  {
   "cell_type": "markdown",
   "id": "80e72bbe",
   "metadata": {},
   "source": [
    "🧠 ~65% of samples in training set."
   ]
  },
  {
   "cell_type": "code",
   "execution_count": 4,
   "id": "903857d3",
   "metadata": {},
   "outputs": [],
   "source": [
    "def print_row(row: pd.Series):\n",
    "    print(\"#\" * 50)\n",
    "    fields = [str(f) for f in row.index]\n",
    "    for field in fields:\n",
    "        print(f\"# {field}:\")\n",
    "        print(str(row[field]) + \"\\n\")\n",
    "        \n",
    "        \n",
    "def print_sample_rows(df: pd.DataFrame, n: int = 10):\n",
    "    df.sample(n=n).apply(print_row, axis=1)  # type: ignore"
   ]
  },
  {
   "cell_type": "code",
   "execution_count": 5,
   "id": "d77f71f7",
   "metadata": {},
   "outputs": [
    {
     "name": "stdout",
     "output_type": "stream",
     "text": [
      "##################################################\n",
      "# authors:\n",
      "Sarah Barness\n",
      "\n",
      "# category:\n",
      "I\n",
      "\n",
      "# headline:\n",
      "Little Girl Saves Capsized Boat With Her Crazy Legs\n",
      "\n",
      "# link:\n",
      "https://www.huffingtonpost.com/entry/bajau-laut-girl-capsized-boat-legs_n_5461091.html\n",
      "\n",
      "# short_description:\n",
      "\n",
      "\n",
      "##################################################\n",
      "# authors:\n",
      "Mandy Velez\n",
      "\n",
      "# category:\n",
      "J\n",
      "\n",
      "# headline:\n",
      "Henry Hallum, 4-Year-Old Cancer Patient, Gets Over 700 Birthday Cards On His Special Day\n",
      "\n",
      "# link:\n",
      "https://www.huffingtonpost.com/entry/henry-hallum_us_5b9d8082e4b03a1dcc88d56d\n",
      "\n",
      "# short_description:\n",
      "They've raised £104,000 (about $164,580) so far, but will continue to accept donations in order to reach their £500,000 ($785,950.00\n",
      "\n",
      "##################################################\n",
      "# authors:\n",
      "Dana Oliver\n",
      "\n",
      "# category:\n",
      "F\n",
      "\n",
      "# headline:\n",
      "Anna Dello Russo Wigs Out For Radio Deejay's 30th Anniversary (PHOTO, POLL)\n",
      "\n",
      "# link:\n",
      "https://www.huffingtonpost.com/entry/anna-dello-russo-hair_us_5b9b45a8e4b03a1dcc762c57\n",
      "\n",
      "# short_description:\n",
      "Anna Dello Russo's latest look has me wanting to trade in my sleek blow-out for big hair. The 49-year-old Vogue Nippon editor\n",
      "\n",
      "##################################################\n",
      "# authors:\n",
      "Michael Golden , ContributorAuthor of Unlock Congress and cofounder of One Million Degrees\n",
      "\n",
      "# category:\n",
      "G\n",
      "\n",
      "# headline:\n",
      "The Night Nerd Prom Went Up Against a Pep Rally in Pennsylvania\n",
      "\n",
      "# link:\n",
      "https://www.huffingtonpost.com/entry/the-night-that-nerd-prom-went-up-against-a-pep-rally_us_59054d74e4b084f59b49f9d8\n",
      "\n",
      "# short_description:\n",
      "Like a good number of folks who’ve worked in journalism over the years, for me, Bob Woodward and Carl Bernstein continue\n",
      "\n",
      "##################################################\n",
      "# authors:\n",
      "Lauren Weber, Howard Fineman, and Jason Linkins\n",
      "\n",
      "# category:\n",
      "G\n",
      "\n",
      "# headline:\n",
      "Trump (Queens) vs. Bernie (Brooklyn): The New York Values Throwdown\n",
      "\n",
      "# link:\n",
      "https://www.huffingtonpost.com/entry/trump-vs-bernie-new-york_us_56994622e4b0b4eb759e4f7e\n",
      "\n",
      "# short_description:\n",
      "Forget the rest of the country -- this is the ultimate 2016 matchup that no one saw coming except us. (Also, not really us either.)\n",
      "\n",
      "##################################################\n",
      "# authors:\n",
      "Rebecca Shapiro\n",
      "\n",
      "# category:\n",
      "J\n",
      "\n",
      "# headline:\n",
      "Kids Learn About Periods And Well... You Can Imagine How That Went\n",
      "\n",
      "# link:\n",
      "https://www.huffingtonpost.com/entry/kids-learn-about-periods_us_586f5c8be4b099cdb0fc8f15\n",
      "\n",
      "# short_description:\n",
      "Some talks go better than others.\n",
      "\n",
      "##################################################\n",
      "# authors:\n",
      "LearnVest, Contributor\n",
      "LearnVest is a program for your money.\n",
      "\n",
      "# category:\n",
      "J\n",
      "\n",
      "# headline:\n",
      "10 To-Dos in 10 Minutes That Will Help Your Family's Finances\n",
      "\n",
      "# link:\n",
      "https://www.huffingtonpost.com/entry/family-finances_us_5b9cb3c0e4b03a1dcc810213\n",
      "\n",
      "# short_description:\n",
      "The New Year is a time to conquer any traces of \"put-off-ability,\" because the longer you put things off, the more you'll continue to put them off. Admittedly, some of the tasks that get pushed off the longest are the ones that can help your financial life.\n",
      "\n",
      "##################################################\n",
      "# authors:\n",
      "Carolina Moreno\n",
      "\n",
      "# category:\n",
      "D\n",
      "\n",
      "# headline:\n",
      "Missy Elliott Pays An Emotional Tribute To Aaliyah With Throwback Photos\n",
      "\n",
      "# link:\n",
      "https://www.huffingtonpost.com/entry/missy-elliott-aaliyah-tribute_us_5a5e7215e4b00a7f171b6cc4\n",
      "\n",
      "# short_description:\n",
      "The late singer would have turned 39 on Tuesday.\n",
      "\n",
      "##################################################\n",
      "# authors:\n",
      "David Moye\n",
      "\n",
      "# category:\n",
      "C\n",
      "\n",
      "# headline:\n",
      "Accused Casino Robber Tried To Disguise Himself With Blackface\n",
      "\n",
      "# link:\n",
      "https://www.huffingtonpost.com/entry/cameron-james-kennedy-blackface-casino-robbery_us_5aa93d5ae4b001c8bf160d67\n",
      "\n",
      "# short_description:\n",
      "The cashier assumed the robber was actually white because his skin tone appeared irregular and blotchy.\n",
      "\n",
      "##################################################\n",
      "# authors:\n",
      "Cara Paiuk, Contributor\n",
      "Writer, Photographer, Overthinker\n",
      "\n",
      "# category:\n",
      "J\n",
      "\n",
      "# headline:\n",
      "I Lack The Discipline to Discipline My Son\n",
      "\n",
      "# link:\n",
      "https://www.huffingtonpost.com/entry/i-lack-the-discipline-to-discipline-my-son_us_5b9deb0be4b03a1dcc8eb783\n",
      "\n",
      "# short_description:\n",
      "Yes, I am being played. I know it. But my heart melts EVERY TIME he says I love you. Or I smile ear to ear. Or laugh. He knows how to break my will to discipline. He knows how to soften my anger. He KNOWS! How does he play me, a professional negotiator, who has made grown men beg for mercy?\n",
      "\n"
     ]
    }
   ],
   "source": [
    "print_sample_rows(train_df)"
   ]
  },
  {
   "cell_type": "markdown",
   "id": "7714848d",
   "metadata": {},
   "source": [
    "🚨 Seeing some missing data (for author and short_description).\n",
    "\n",
    "💪 Will want to check missing data ratios at some point.\n",
    "\n",
    "🧠 Some structure and metadata included in the text fields. e.g.\n",
    "\n",
    "`(PHOTOS)`, `Lee Daniels: I Wouldn't Be Where I Am If I Embraced Racism`\n",
    "\n",
    "🧠 Could be information in `author` field that we'd be ignoring if we skipped\n",
    "the feature. e.g.\n",
    "\n",
    "```\n",
    "Debbe Daley, Contributor\n",
    "Principal and owner at Debbe Daley Designs LLC\n",
    "```\n",
    "\n",
    "🧠 Even without headline or description, we could guess the article would be\n",
    "about design.\n",
    "\n",
    "🧠 Concern with `author` field was authors would write multiple articles in\n",
    "the same category, and a model would just learn this mapping, rather than\n",
    "learning from the article headlines and short_description. We could\n",
    "mask/remove the name and leave the rest, but it's only a partial solution and\n",
    "more complex.\n",
    "\n",
    "⭐️ Check hypothesis that authors post multiple time (and in same category)."
   ]
  },
  {
   "cell_type": "markdown",
   "id": "8d7df3e8",
   "metadata": {},
   "source": [
    "## Classes"
   ]
  },
  {
   "cell_type": "markdown",
   "id": "4891f797",
   "metadata": {},
   "source": [
    "❓ How many classes (or categories) are we dealing with?"
   ]
  },
  {
   "cell_type": "code",
   "execution_count": 6,
   "id": "84a9f04f",
   "metadata": {},
   "outputs": [
    {
     "name": "stdout",
     "output_type": "stream",
     "text": [
      "Classes in train_df: 10\n"
     ]
    }
   ],
   "source": [
    "classes_in_train = set(train_df[\"category\"].unique())\n",
    "print(f\"Classes in train_df: {len(classes_in_train)}\")"
   ]
  },
  {
   "cell_type": "code",
   "execution_count": 7,
   "id": "fb561501",
   "metadata": {},
   "outputs": [
    {
     "name": "stdout",
     "output_type": "stream",
     "text": [
      "Classes in test_df: 10\n"
     ]
    }
   ],
   "source": [
    "classes_in_test = set(test_df[\"category\"].unique())\n",
    "print(f\"Classes in test_df: {len(classes_in_test)}\")"
   ]
  },
  {
   "cell_type": "markdown",
   "id": "f1d7f768",
   "metadata": {},
   "source": [
    "❓ Are they the same classes? Or are there new ones (or subset)\n",
    "in the test set?"
   ]
  },
  {
   "cell_type": "code",
   "execution_count": 8,
   "id": "46423bc5",
   "metadata": {},
   "outputs": [],
   "source": [
    "assert len(classes_in_train.difference(classes_in_test)) == 0\n",
    "assert len(classes_in_test.difference(classes_in_train)) == 0"
   ]
  },
  {
   "cell_type": "markdown",
   "id": "c8de381c",
   "metadata": {},
   "source": [
    "Yes, they are the same classes."
   ]
  },
  {
   "cell_type": "markdown",
   "id": "c258e6eb",
   "metadata": {},
   "source": [
    "❓ What's the count for each class? Is it a 'balanced' problem?"
   ]
  },
  {
   "cell_type": "code",
   "execution_count": 9,
   "id": "e933d47b",
   "metadata": {},
   "outputs": [],
   "source": [
    "def plot_class_counts(df: pd.DataFrame) -> None:\n",
    "    class_counts = df[\"category\"].value_counts(normalize=True)\n",
    "    class_counts.sort_index().plot(kind=\"bar\")"
   ]
  },
  {
   "cell_type": "code",
   "execution_count": 10,
   "id": "be4010be",
   "metadata": {},
   "outputs": [
    {
     "data": {
      "image/png": "[encoded data removed]",
      "text/plain": [
       "<Figure size 640x480 with 1 Axes>"
      ]
     },
     "metadata": {},
     "output_type": "display_data"
    }
   ],
   "source": [
    "plot_class_counts(train_df)"
   ]
  },
  {
   "cell_type": "markdown",
   "id": "f41b6432",
   "metadata": {},
   "source": [
    "🚨 It's imbalanced. As expected from the dataset summary page on\n",
    "Kaggle.\n",
    "\n",
    "❓ Is there any difference in class distribution at test/inference time?\n",
    "\n",
    "🧠 Would like to assume that test set is representative of inference requests,\n",
    "but still want to check a few things there."
   ]
  },
  {
   "cell_type": "code",
   "execution_count": 11,
   "id": "82463bb1",
   "metadata": {},
   "outputs": [],
   "source": [
    "def plot_class_counts_comparision(\n",
    "    df_1: pd.DataFrame,\n",
    "    label_1: str,\n",
    "    df_2: pd.DataFrame,\n",
    "    label_2: str,\n",
    ") -> None:\n",
    "    class_counts_1 = df_1[\"category\"].value_counts(normalize=True)\n",
    "    class_counts_2 = df_2[\"category\"].value_counts(normalize=True)\n",
    "    class_counts = pd.concat([\n",
    "        class_counts_1.rename(label_1),\n",
    "        class_counts_2.rename(label_2)\n",
    "    ], axis=1)\n",
    "    class_counts.sort_index().plot(kind=\"bar\")"
   ]
  },
  {
   "cell_type": "code",
   "execution_count": 12,
   "id": "52d27193",
   "metadata": {},
   "outputs": [
    {
     "data": {
      "image/png": "[encoded data removed]",
      "text/plain": [
       "<Figure size 640x480 with 1 Axes>"
      ]
     },
     "metadata": {},
     "output_type": "display_data"
    }
   ],
   "source": [
    "plot_class_counts_comparision(train_df, \"train\", test_df, \"test\")"
   ]
  },
  {
   "cell_type": "markdown",
   "id": "ec33e599",
   "metadata": {},
   "source": [
    "🧠 Some differences here, but nothing major (e.g. majority class\n",
    "at test time being minority class in training set).\n",
    "\n",
    "🧠 We can also see that the class labels are just alphabetical. We don't get\n",
    "additional information as to what the classes represent. If we had class\n",
    "labels like \"Politics\", \"Sport\", etc. we could have possibly used this\n",
    "information to bootstrap a simple baseline model (e.g. use word embedding of\n",
    "the class label). But we can't."
   ]
  },
  {
   "cell_type": "markdown",
   "id": "efbaeaa1",
   "metadata": {},
   "source": [
    "## Missing Data"
   ]
  },
  {
   "cell_type": "markdown",
   "id": "26c71327",
   "metadata": {},
   "source": [
    "❓ What are the missing data proportions for each field?"
   ]
  },
  {
   "cell_type": "code",
   "execution_count": 13,
   "id": "f335269a",
   "metadata": {},
   "outputs": [
    {
     "data": {
      "text/plain": [
       "authors              0.0\n",
       "category             0.0\n",
       "headline             0.0\n",
       "link                 0.0\n",
       "short_description    0.0\n",
       "dtype: float64"
      ]
     },
     "execution_count": 13,
     "metadata": {},
     "output_type": "execute_result"
    }
   ],
   "source": [
    "train_df.isna().mean()"
   ]
  },
  {
   "cell_type": "markdown",
   "id": "ef434a04",
   "metadata": {},
   "source": [
    "🧠 No missing data?!\n",
    "\n",
    "🧠 Seems suspect given we've seen it. Will likely be due to whitespace being\n",
    "counted as not na. Will convert."
   ]
  },
  {
   "cell_type": "code",
   "execution_count": 14,
   "id": "ae9a43f5",
   "metadata": {},
   "outputs": [],
   "source": [
    "def blank_to_na(string: str):\n",
    "    string = string.strip()\n",
    "    if len(string) == 0:\n",
    "        return pd.NA\n",
    "    else:\n",
    "        return string"
   ]
  },
  {
   "cell_type": "code",
   "execution_count": 15,
   "id": "5a542ce2",
   "metadata": {},
   "outputs": [],
   "source": [
    "train_df = train_df.applymap(blank_to_na)\n",
    "test_df = test_df.applymap(blank_to_na)"
   ]
  },
  {
   "cell_type": "markdown",
   "id": "e5010953",
   "metadata": {},
   "source": [
    "🧠 Will want to apply this clean up during training and\n",
    "inference."
   ]
  },
  {
   "cell_type": "code",
   "execution_count": 16,
   "id": "d312f562",
   "metadata": {},
   "outputs": [
    {
     "data": {
      "text/plain": [
       "authors              0.196846\n",
       "category             0.000000\n",
       "headline             0.000046\n",
       "link                 0.000000\n",
       "short_description    0.087123\n",
       "dtype: float64"
      ]
     },
     "execution_count": 16,
     "metadata": {},
     "output_type": "execute_result"
    }
   ],
   "source": [
    "train_df.isna().mean()"
   ]
  },
  {
   "cell_type": "markdown",
   "id": "3bf58b15",
   "metadata": {},
   "source": [
    "🧠 ~20% of time the `author` field is missing. Another reason to\n",
    "skip this field for first version.\n",
    "\n",
    "🚨 Also ~8% for `short_description` field, which we had noted as one of the\n",
    "most important fields.\n",
    "\n",
    "👍 Good to see that category is never missing. And headline very rarely.\n",
    "\n",
    "💪 Will look at missing overlap between `headline` and `short_description`\n",
    "\n",
    "⭐️ Would look at full cross plot of missing values with more time."
   ]
  },
  {
   "cell_type": "code",
   "execution_count": 17,
   "id": "b0a8791d",
   "metadata": {},
   "outputs": [
    {
     "data": {
      "text/plain": [
       "3"
      ]
     },
     "execution_count": 17,
     "metadata": {},
     "output_type": "execute_result"
    }
   ],
   "source": [
    "train_df.isna()[[\"headline\", \"short_description\"]].all(axis=1).sum()"
   ]
  },
  {
   "cell_type": "markdown",
   "id": "3c6b4482",
   "metadata": {},
   "source": [
    "🧠 Only 3 samples out of 65,000 have a missing `headline` and\n",
    "`short_description`.\n",
    "\n",
    "🧠 A negligible amount, but it's still an edge case to handle.\n",
    "\n",
    "🧠 Should we introduce an \"Unknown\" class? e.g. with class index of `-1`?\n",
    "\n",
    "💡 Could also apply to case where model isn't confident about top predicted\n",
    "class."
   ]
  },
  {
   "cell_type": "markdown",
   "id": "c08bdcc5",
   "metadata": {},
   "source": [
    "## Character Length"
   ]
  },
  {
   "cell_type": "markdown",
   "id": "80bc2a72",
   "metadata": {},
   "source": [
    "❓ What's the distribution of character length of `headline` and\n",
    "`short_description`.\n",
    "\n",
    "🧠 Also interested in token length, but we haven't decided on a model (and\n",
    "tokenizer) yet."
   ]
  },
  {
   "cell_type": "code",
   "execution_count": 18,
   "id": "cd0e3cc4",
   "metadata": {},
   "outputs": [
    {
     "data": {
      "text/plain": [
       "count    65000.000000\n",
       "mean        60.295046\n",
       "std         18.777176\n",
       "min          0.000000\n",
       "25%         48.000000\n",
       "50%         62.000000\n",
       "75%         73.000000\n",
       "max        320.000000\n",
       "Name: headline_length, dtype: float64"
      ]
     },
     "execution_count": 18,
     "metadata": {},
     "output_type": "execute_result"
    }
   ],
   "source": [
    "train_df[\"headline_length\"] = train_df[\"headline\"].str.len().fillna(0)\n",
    "train_df[\"headline_length\"].describe()"
   ]
  },
  {
   "cell_type": "markdown",
   "id": "027f82e3",
   "metadata": {},
   "source": [
    "🧠 Will be easier to visualize this."
   ]
  },
  {
   "cell_type": "code",
   "execution_count": 19,
   "id": "5b9e1acd",
   "metadata": {},
   "outputs": [
    {
     "data": {
      "text/plain": [
       "<AxesSubplot: ylabel='Frequency'>"
      ]
     },
     "execution_count": 19,
     "metadata": {},
     "output_type": "execute_result"
    },
    {
     "data": {
      "image/png": "[encoded data removed]",
      "text/plain": [
       "<Figure size 640x480 with 1 Axes>"
      ]
     },
     "metadata": {},
     "output_type": "display_data"
    }
   ],
   "source": [
    "train_df[\"headline_length\"].plot(kind=\"hist\", bins=100)"
   ]
  },
  {
   "cell_type": "markdown",
   "id": "aaee45d4",
   "metadata": {},
   "source": [
    "🧠 Max of 320 is quite an outlier. It doesn't seem to be a\n",
    "trimmed distribution.\n",
    "\n",
    "❓ What are the spikes?"
   ]
  },
  {
   "cell_type": "code",
   "execution_count": 20,
   "id": "9c93bd81",
   "metadata": {},
   "outputs": [
    {
     "data": {
      "text/plain": [
       "65    1632\n",
       "67    1553\n",
       "66    1525\n",
       "64    1521\n",
       "70    1464\n",
       "63    1453\n",
       "62    1446\n",
       "61    1432\n",
       "68    1428\n",
       "69    1426\n",
       "Name: headline_length, dtype: int64"
      ]
     },
     "execution_count": 20,
     "metadata": {},
     "output_type": "execute_result"
    }
   ],
   "source": [
    "train_df[\"headline_length\"].value_counts().head(10)"
   ]
  },
  {
   "cell_type": "markdown",
   "id": "59305c77",
   "metadata": {},
   "source": [
    "🧠 It's not a single value.\n",
    "\n",
    "❓ What are some samples for these cases?"
   ]
  },
  {
   "cell_type": "code",
   "execution_count": 21,
   "id": "d22808d7",
   "metadata": {},
   "outputs": [
    {
     "name": "stdout",
     "output_type": "stream",
     "text": [
      "##################################################\n",
      "# authors:\n",
      "Andrew H. Nichols, ContributorDirector of Higher Education Research and Data Analytics\n",
      "\n",
      "# category:\n",
      "D\n",
      "\n",
      "# headline:\n",
      "Standing Up For And Supporting Latinx Students On America’s College Campuses: Lessons From Hispanic-Serving Institutions\n",
      "\n",
      "# link:\n",
      "https://www.huffingtonpost.com/entry/standing-up-for-and-supporting-latinx-students-on-americas_us_59cbd34de4b0b99ee4a9c9b2\n",
      "\n",
      "# short_description:\n",
      "There's a difference between \"Hispanic-serving\" and just \"Hispanic-enrolling.\"\n",
      "\n",
      "# headline_length:\n",
      "120\n",
      "\n",
      "##################################################\n",
      "# authors:\n",
      "Geoffrey R. Stone, ContributorEdward H. Levi Distinguished Service Professor of Law, The Uni...\n",
      "\n",
      "# category:\n",
      "G\n",
      "\n",
      "# headline:\n",
      "Trump's Outrageous 'Proclamation' About Transgender Persons Serving In The Military Is Ignorant, Immoral And Un-American\n",
      "\n",
      "# link:\n",
      "https://www.huffingtonpost.com/entry/trumps-outrageous-proclamation-about-transgender_us_59793fb8e4b0c69ef7052588\n",
      "\n",
      "# short_description:\n",
      "This is a shame and a tragedy for our nation.\n",
      "\n",
      "# headline_length:\n",
      "120\n",
      "\n",
      "##################################################\n",
      "# authors:\n",
      "Michelle Manetti\n",
      "\n",
      "# category:\n",
      "F\n",
      "\n",
      "# headline:\n",
      "Ashley Whittaker Proves That Small-Space Living Doesn't Have To Be Dull, In House Beautiful's July/August Issue (PHOTOS)\n",
      "\n",
      "# link:\n",
      "https://www.huffingtonpost.com/entry/ashley-whittaker-small-space-living_us_5b9d4d72e4b03a1dcc867098\n",
      "\n",
      "# short_description:\n",
      "One designer proves that bold is better in small spaces.\n",
      "\n",
      "# headline_length:\n",
      "120\n",
      "\n"
     ]
    }
   ],
   "source": [
    "print_sample_rows(train_df.query(\"headline_length == 120\"), n=3)"
   ]
  },
  {
   "cell_type": "markdown",
   "id": "3d029921",
   "metadata": {},
   "source": [
    "🧠 Can't see anything obviously wrong here. Could just be an\n",
    "advisory character count in th UI.\n",
    "\n",
    "❓ What about `short_description`?"
   ]
  },
  {
   "cell_type": "code",
   "execution_count": 22,
   "id": "f93eacaa",
   "metadata": {},
   "outputs": [
    {
     "data": {
      "text/plain": [
       "count    65000.000000\n",
       "mean       111.765123\n",
       "std         79.123164\n",
       "min          0.000000\n",
       "25%         62.000000\n",
       "50%        120.000000\n",
       "75%        126.000000\n",
       "max       1472.000000\n",
       "Name: short_description_length, dtype: float64"
      ]
     },
     "execution_count": 22,
     "metadata": {},
     "output_type": "execute_result"
    }
   ],
   "source": [
    "train_df[\"short_description_length\"] = train_df[\"short_description\"].str.len().fillna(0)\n",
    "train_df[\"short_description_length\"].describe()"
   ]
  },
  {
   "cell_type": "code",
   "execution_count": 23,
   "id": "5cb9c8f6",
   "metadata": {},
   "outputs": [
    {
     "data": {
      "text/plain": [
       "<AxesSubplot: ylabel='Frequency'>"
      ]
     },
     "execution_count": 23,
     "metadata": {},
     "output_type": "execute_result"
    },
    {
     "data": {
      "image/png": "[encoded data removed]",
      "text/plain": [
       "<Figure size 640x480 with 1 Axes>"
      ]
     },
     "metadata": {},
     "output_type": "display_data"
    }
   ],
   "source": [
    "train_df[\"short_description_length\"].plot(kind=\"hist\", bins=100)"
   ]
  },
  {
   "cell_type": "markdown",
   "id": "76f0ccaf",
   "metadata": {},
   "source": [
    "🧠 Similar, but even more pronounced spikes.\n",
    "\n",
    "❓ What are these spikes?"
   ]
  },
  {
   "cell_type": "code",
   "execution_count": 24,
   "id": "72d5d0ec",
   "metadata": {},
   "outputs": [
    {
     "data": {
      "text/plain": [
       "0      5663\n",
       "121    3233\n",
       "120    3212\n",
       "122    3093\n",
       "123    2788\n",
       "124    2155\n",
       "125    1634\n",
       "126    1258\n",
       "127     837\n",
       "128     529\n",
       "Name: short_description_length, dtype: int64"
      ]
     },
     "execution_count": 24,
     "metadata": {},
     "output_type": "execute_result"
    }
   ],
   "source": [
    "train_df[\"short_description_length\"].value_counts().head(10)"
   ]
  },
  {
   "cell_type": "markdown",
   "id": "af8ab6c3",
   "metadata": {},
   "source": [
    "🧠 0 is known, because it's the missing values we've seen\n",
    "earlier.\n",
    "\n",
    "🧠 Otherwise quite a few around samples with `short_description_length` of\n",
    ">=120.\n",
    "\n",
    "❓ What do these samples look like?"
   ]
  },
  {
   "cell_type": "code",
   "execution_count": 25,
   "id": "9486a662",
   "metadata": {},
   "outputs": [
    {
     "name": "stdout",
     "output_type": "stream",
     "text": [
      "##################################################\n",
      "# authors:\n",
      "<NA>\n",
      "\n",
      "# category:\n",
      "J\n",
      "\n",
      "# headline:\n",
      "10 Tips For A Better Labor Day\n",
      "\n",
      "# link:\n",
      "https://www.huffingtonpost.comhttp://www.fitpregnancy.com/labor-delivery/labor-delivery/10-tips-better-labor-day\n",
      "\n",
      "# short_description:\n",
      "It often feels like life is moving faster and faster all the time, but in the delivery room, things are actually slowing\n",
      "\n",
      "# headline_length:\n",
      "30\n",
      "\n",
      "# short_description_length:\n",
      "120\n",
      "\n",
      "##################################################\n",
      "# authors:\n",
      "<NA>\n",
      "\n",
      "# category:\n",
      "J\n",
      "\n",
      "# headline:\n",
      "20 Mouthwatering (and Healthy!) After-School Snacks That Won't Spoil Dinner\n",
      "\n",
      "# link:\n",
      "https://www.huffingtonpost.comhttp://moms.popsugar.com/Best-After-School-Snacks-31433356\n",
      "\n",
      "# short_description:\n",
      "Typical scene: your kids have just finished up a busy day at school, and now they're ravenous. The trick is to give them\n",
      "\n",
      "# headline_length:\n",
      "75\n",
      "\n",
      "# short_description_length:\n",
      "120\n",
      "\n",
      "##################################################\n",
      "# authors:\n",
      "<NA>\n",
      "\n",
      "# category:\n",
      "E\n",
      "\n",
      "# headline:\n",
      "Brandy Engaged To Music Executive Ryan Press (REPORT)\n",
      "\n",
      "# link:\n",
      "https://www.huffingtonpost.com/entry/brandy-engaged_us_5b9cab7ee4b03a1dcc80bb0c\n",
      "\n",
      "# short_description:\n",
      "Us Weekly reports that 33-year-old actress/R&B singer Brandy Norwood is engaged to music executive Ryan Press. In August\n",
      "\n",
      "# headline_length:\n",
      "53\n",
      "\n",
      "# short_description_length:\n",
      "120\n",
      "\n"
     ]
    }
   ],
   "source": [
    "print_sample_rows(train_df.query(\"short_description_length == 120\"), n=3)"
   ]
  },
  {
   "cell_type": "markdown",
   "id": "639e69e2",
   "metadata": {},
   "source": [
    "🚨 It looks like there's been trimming applied here.\n",
    "\n",
    "```\n",
    "For advertisers, Christmas is a way to get people to buy by doing whatever it takes. One German company, Edeka, goes all\n",
    "```\n",
    "\n",
    "🧠 Although slightly strange that it's at a variety of different character\n",
    "lengths.\n",
    "\n",
    "💡 Could be quite a good data augmentation strategy.\n",
    "\n",
    "❓ Should these cases be removed from the dataset.\n",
    "\n",
    "🧠 We ultimately want to optimize robust validation metrics, so the question\n",
    "is whether we want them removed from that set.\n",
    "\n",
    "❓ Are these cases more common for a certain class?"
   ]
  },
  {
   "cell_type": "code",
   "execution_count": 26,
   "id": "c720549e",
   "metadata": {},
   "outputs": [
    {
     "data": {
      "image/png": "[encoded data removed]",
      "text/plain": [
       "<Figure size 640x480 with 1 Axes>"
      ]
     },
     "metadata": {},
     "output_type": "display_data"
    }
   ],
   "source": [
    "plot_class_counts_comparision(\n",
    "    train_df,\n",
    "    \"train\",\n",
    "    train_df.query(\"short_description_length >= 120 & short_description_length < 130\"),\n",
    "    \"train_len_120_to_130\"\n",
    ")"
   ]
  },
  {
   "cell_type": "markdown",
   "id": "4af84e31",
   "metadata": {},
   "source": [
    "🧠 Yes, but still happens for all classes.\n",
    "\n",
    "❓ Are these cases in the test set too?"
   ]
  },
  {
   "cell_type": "code",
   "execution_count": 27,
   "id": "aee448d5",
   "metadata": {},
   "outputs": [
    {
     "data": {
      "text/plain": [
       "<AxesSubplot: ylabel='Frequency'>"
      ]
     },
     "execution_count": 27,
     "metadata": {},
     "output_type": "execute_result"
    },
    {
     "data": {
      "image/png": "[encoded data removed]",
      "text/plain": [
       "<Figure size 640x480 with 1 Axes>"
      ]
     },
     "metadata": {},
     "output_type": "display_data"
    }
   ],
   "source": [
    "test_df[\"headline_length\"] = test_df[\"headline\"].str.len().fillna(0)\n",
    "test_df[\"headline_length\"].plot(kind=\"hist\", bins=100)"
   ]
  },
  {
   "cell_type": "markdown",
   "id": "b0f40873",
   "metadata": {},
   "source": [
    "🧠 Smoother distribution for test set here. Small drop just\n",
    "after 100, but not too concerning."
   ]
  },
  {
   "cell_type": "code",
   "execution_count": 28,
   "id": "c317c504",
   "metadata": {},
   "outputs": [
    {
     "data": {
      "text/plain": [
       "<AxesSubplot: ylabel='Frequency'>"
      ]
     },
     "execution_count": 28,
     "metadata": {},
     "output_type": "execute_result"
    },
    {
     "data": {
      "image/png": "[encoded data removed]",
      "text/plain": [
       "<Figure size 640x480 with 1 Axes>"
      ]
     },
     "metadata": {},
     "output_type": "display_data"
    }
   ],
   "source": [
    "test_df[\"short_description_length\"] = test_df[\"short_description\"].str.len().fillna(0)\n",
    "test_df[\"short_description_length\"].plot(kind=\"hist\", bins=100)"
   ]
  },
  {
   "cell_type": "markdown",
   "id": "11dd2e98",
   "metadata": {},
   "source": [
    "🧠 Get spikes for `short_description_length` in test set too.\n",
    "\n",
    "🧠 Gives more confidence that train and test are samples from the same\n",
    "distribution.\n",
    "\n",
    "🧠 Going to assume that we'll get these cases at inference time too.\n",
    "\n",
    "🪨 Will leave these cases in the dataset (all splits).\n",
    "\n",
    "💪 If time permits, and improvements are needed, will try trimming as a data\n",
    "augmentation strategy during training."
   ]
  },
  {
   "cell_type": "markdown",
   "id": "2bd42996",
   "metadata": {},
   "source": [
    "## Over time"
   ]
  },
  {
   "cell_type": "markdown",
   "id": "64a132bf",
   "metadata": {},
   "source": [
    "❓ What's the distribution of samples over time between train and\n",
    "test?"
   ]
  },
  {
   "cell_type": "code",
   "execution_count": 29,
   "id": "f0b56e72",
   "metadata": {},
   "outputs": [
    {
     "name": "stdout",
     "output_type": "stream",
     "text": [
      "Index(['authors', 'category', 'headline', 'link', 'short_description',\n",
      "       'headline_length', 'short_description_length'],\n",
      "      dtype='object')\n"
     ]
    }
   ],
   "source": [
    "print(train_df.columns)"
   ]
  },
  {
   "cell_type": "markdown",
   "id": "b46ed613",
   "metadata": {},
   "source": [
    "🧠 Where is the field for date? Assume it's been removed from\n",
    "original data source.\n",
    "\n",
    "🚨 Will assume the samples have been split by time, but can't verify this.\n",
    "\n",
    "🚨 In a real world assignment, I would like to have full knowledge/control of\n",
    "splitting process. A very common source of error."
   ]
  }
 ],
 "metadata": {
  "jupytext": {
   "cell_metadata_filter": "-all",
   "main_language": "python",
   "notebook_metadata_filter": "-all"
  },
  "kernelspec": {
   "display_name": "Python 3 (ipykernel)",
   "language": "python",
   "name": "python3"
  },
  "language_info": {
   "codemirror_mode": {
    "name": "ipython",
    "version": 3
   },
   "file_extension": ".py",
   "mimetype": "text/x-python",
   "name": "python",
   "nbconvert_exporter": "python",
   "pygments_lexer": "ipython3",
   "version": "3.10.8"
  }
 },
 "nbformat": 4,
 "nbformat_minor": 5
}
