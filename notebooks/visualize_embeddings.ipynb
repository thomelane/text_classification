{
 "cells": [
  {
   "cell_type": "markdown",
   "id": "3e55e21a",
   "metadata": {},
   "source": [
    "# Visualize Embeddings"
   ]
  },
  {
   "cell_type": "code",
   "execution_count": 1,
   "id": "fc4be70b",
   "metadata": {
    "lines_to_next_cell": 2
   },
   "outputs": [],
   "source": [
    "import os\n",
    "\n",
    "from pathlib import Path\n",
    "import shutil\n",
    "import numpy as np\n",
    "import pandas as pd\n",
    "from torch.utils.tensorboard import SummaryWriter\n",
    "\n",
    "from text_classification import defs\n",
    "from text_classification.data import Samples\n",
    "from text_classification.transforms import LabelTransform\n",
    "import text_classification.config as cfg"
   ]
  },
  {
   "cell_type": "markdown",
   "id": "32d75755",
   "metadata": {},
   "source": [
    "🧠 Will load pre-computed embeddings."
   ]
  },
  {
   "cell_type": "code",
   "execution_count": 2,
   "id": "f26e9beb",
   "metadata": {},
   "outputs": [
    {
     "name": "stderr",
     "output_type": "stream",
     "text": [
      "2023-02-12 23:33:38 +0000 - dagster - DEBUG - system - Loading file from: /Users/thomelane/Projects/text_classification/data/storage/train_set\n",
      "2023-02-12 23:33:38 +0000 - dagster - DEBUG - system - Loading file from: /Users/thomelane/Projects/text_classification/data/storage/train_embeddings\n",
      "2023-02-12 23:33:38 +0000 - dagster - DEBUG - system - Loading file from: /Users/thomelane/Projects/text_classification/data/storage/label_transform\n"
     ]
    }
   ],
   "source": [
    "train_set: Samples = defs.load_asset_value(\"train_set\")  # type: ignore\n",
    "train_embeddings: np.ndarray = defs.load_asset_value(\"train_embeddings\")  # type: ignore\n",
    "label_transform: LabelTransform = defs.load_asset_value(\"label_transform\")  # type: ignore"
   ]
  },
  {
   "cell_type": "code",
   "execution_count": 3,
   "id": "846b15b8",
   "metadata": {
    "lines_to_next_cell": 2
   },
   "outputs": [],
   "source": [
    "train_df = pd.DataFrame(train_set)\n",
    "train_df[\"class_label\"] = train_df[\"category\"].apply(lambda e: cfg.CLASS_LABELS[e])"
   ]
  },
  {
   "cell_type": "markdown",
   "id": "d60b7ada",
   "metadata": {},
   "source": [
    "🧠 We don't want to show 65,000 samples in TensorBoard's embedding viewer.\n",
    "\n",
    "🧠 Will sample to 100 samples per class."
   ]
  },
  {
   "cell_type": "code",
   "execution_count": 4,
   "id": "08bc1161",
   "metadata": {},
   "outputs": [],
   "source": [
    "samples_per_class = 100\n",
    "sampled_train_df = train_df.groupby(\"category\").sample(samples_per_class)\n",
    "sampled_idxs = sampled_train_df.index\n",
    "sampled_embeddings = train_embeddings[sampled_idxs]"
   ]
  },
  {
   "cell_type": "markdown",
   "id": "f12253e7",
   "metadata": {},
   "source": [
    "🧠 Choose what fields to show in TensorBoard."
   ]
  },
  {
   "cell_type": "code",
   "execution_count": 5,
   "id": "e27f07a4",
   "metadata": {},
   "outputs": [],
   "source": [
    "metadata_header = [\"id\", \"class_label\", \"headline\", \"short_description\"]\n",
    "metadata = sampled_train_df[metadata_header].values.tolist()"
   ]
  },
  {
   "cell_type": "code",
   "execution_count": 6,
   "id": "84af528b",
   "metadata": {},
   "outputs": [],
   "source": [
    "data_root = os.environ[\"DATA_ROOT\"]\n",
    "assert data_root is not None and len(data_root) > 0\n",
    "output_path = Path(data_root, \"embeddings/train\")\n",
    "if output_path.exists():\n",
    "    shutil.rmtree(output_path)"
   ]
  },
  {
   "cell_type": "code",
   "execution_count": 7,
   "id": "de9a266e",
   "metadata": {},
   "outputs": [],
   "source": [
    "writer = SummaryWriter(output_path)\n",
    "writer.add_embedding(\n",
    "    sampled_embeddings,\n",
    "    metadata=metadata,\n",
    "    metadata_header=metadata_header\n",
    ")"
   ]
  },
  {
   "cell_type": "markdown",
   "id": "3f0f21ff",
   "metadata": {},
   "source": [
    "Starting the TensorBoard server, and can view the embeddings [here](http://localhost:6006/#projector)."
   ]
  },
  {
   "cell_type": "code",
   "execution_count": 8,
   "id": "454fbf07",
   "metadata": {},
   "outputs": [],
   "source": [
    "#!tensorboard --logdir {output_path}/"
   ]
  },
  {
   "cell_type": "markdown",
   "id": "53488ca1",
   "metadata": {},
   "source": [
    "## Visualization"
   ]
  },
  {
   "cell_type": "markdown",
   "id": "30f96d80",
   "metadata": {},
   "source": [
    "### UMAP\n",
    "\n",
    "Colouring by class_label.\n",
    "\n",
    "* 2D\n",
    "* Neighbours: 10\n",
    "* Iterations: 500\n",
    "\n",
    "<img src=\"./umap.png\" alt=\"umap\" style=\"width: 400px;\"/>\n",
    "\n",
    "🧠 Get some unsupervised seperation, but would like to have given it more iterations."
   ]
  },
  {
   "cell_type": "markdown",
   "id": "43d3ea5f",
   "metadata": {},
   "source": [
    "### T-SNE\n",
    "\n",
    "Colouring by class_label.\n",
    "\n",
    "* 2D\n",
    "* Perplexity: 5\n",
    "* Learning Rate: 1\n",
    "* Supervision: 25\n",
    "* Iterations: 300\n",
    "\n",
    "<img src=\"./t-sne.png\" alt=\"t-sne\" style=\"width: 400px;\"/>\n",
    "\n",
    "🧠 As expected, we get better seperation with supervision.\n",
    "\n",
    "🧠 Shows there potential for learning a good head classifier, but we know that from our earlier models too.\n",
    "\n",
    "❓ What are the outliers in the clusters?"
   ]
  },
  {
   "cell_type": "markdown",
   "id": "5e6b3c98",
   "metadata": {},
   "source": [
    "## Outliers"
   ]
  },
  {
   "cell_type": "code",
   "execution_count": 9,
   "id": "76de4239",
   "metadata": {},
   "outputs": [],
   "source": [
    "def print_row(row: pd.Series):\n",
    "    print(\"#\" * 50)\n",
    "    fields = [str(f) for f in row.index]\n",
    "    for field in fields:\n",
    "        print(f\"# {field}:\")\n",
    "        print(str(row[field]) + \"\\n\")"
   ]
  },
  {
   "cell_type": "code",
   "execution_count": 10,
   "id": "e0488a97",
   "metadata": {},
   "outputs": [
    {
     "name": "stdout",
     "output_type": "stream",
     "text": [
      "##################################################\n",
      "# category:\n",
      "D\n",
      "\n",
      "# headline:\n",
      "Closet Confidential: 10 Ways To Wear White After Labor Day\n",
      "\n",
      "# short_description:\n",
      "We've all heard the age old adage, 'No white after Labor Day.' Still, many fashion rules are definitely meant to be broken\n",
      "\n",
      "# id:\n",
      "8063\n",
      "\n",
      "# class_label:\n",
      "D: Diversity\n",
      "\n"
     ]
    }
   ],
   "source": [
    "print_row(train_df.query('id == 8063').iloc[0])"
   ]
  },
  {
   "cell_type": "markdown",
   "id": "44ab723b",
   "metadata": {},
   "source": [
    "🧠 Should this not be in \"F: Fashion\"?\n",
    "\n",
    "🧠 Could be an incorrect label? Or we manually labelled the classes wrong."
   ]
  },
  {
   "cell_type": "code",
   "execution_count": 11,
   "id": "2dadde5b",
   "metadata": {},
   "outputs": [
    {
     "name": "stdout",
     "output_type": "stream",
     "text": [
      "##################################################\n",
      "# category:\n",
      "D\n",
      "\n",
      "# headline:\n",
      "Here's A Brilliant Way You Can Explain Marriage Equality To Kids\n",
      "\n",
      "# short_description:\n",
      "❤️  ❤️  ❤️\n",
      "\n",
      "# id:\n",
      "11520\n",
      "\n",
      "# class_label:\n",
      "D: Diversity\n",
      "\n"
     ]
    }
   ],
   "source": [
    "print_row(train_df.query('id == 11520').iloc[0])"
   ]
  },
  {
   "cell_type": "markdown",
   "id": "f08b4ded",
   "metadata": {},
   "source": [
    "🧠 Can this be classified into one class? It's also \"J: Parenting\" and \"E: Relationship\"."
   ]
  },
  {
   "cell_type": "code",
   "execution_count": 12,
   "id": "32c31c2e",
   "metadata": {},
   "outputs": [
    {
     "name": "stdout",
     "output_type": "stream",
     "text": [
      "##################################################\n",
      "# category:\n",
      "H\n",
      "\n",
      "# headline:\n",
      "LGBT Rights -- Modernity vs. Forces of Yesteryear\n",
      "\n",
      "# short_description:\n",
      "No matter what, we need to be clear about our vision on global LGBT rights, so we can develop a better strategy and translate it into a sound, reliable and realistic policy. We should act, be relentless and impatient when there is an immediate need to protect individuals across the globe.\n",
      "\n",
      "# id:\n",
      "51394\n",
      "\n",
      "# class_label:\n",
      "H: Foreign Affairs\n",
      "\n"
     ]
    }
   ],
   "source": [
    "print_row(train_df.query('id == 51394').iloc[0])"
   ]
  },
  {
   "cell_type": "markdown",
   "id": "3363eb21",
   "metadata": {},
   "source": [
    "🧠 Also \"D: Diversity\" class."
   ]
  },
  {
   "cell_type": "markdown",
   "id": "e6d6d573",
   "metadata": {},
   "source": [
    "⭐️ Will stop there for now, but would inspect more outliers given more time."
   ]
  }
 ],
 "metadata": {
  "jupytext": {
   "cell_metadata_filter": "-all",
   "main_language": "python",
   "notebook_metadata_filter": "-all"
  },
  "kernelspec": {
   "display_name": "Python 3 (ipykernel)",
   "language": "python",
   "name": "python3"
  },
  "language_info": {
   "codemirror_mode": {
    "name": "ipython",
    "version": 3
   },
   "file_extension": ".py",
   "mimetype": "text/x-python",
   "name": "python",
   "nbconvert_exporter": "python",
   "pygments_lexer": "ipython3",
   "version": "3.10.8"
  }
 },
 "nbformat": 4,
 "nbformat_minor": 5
}
