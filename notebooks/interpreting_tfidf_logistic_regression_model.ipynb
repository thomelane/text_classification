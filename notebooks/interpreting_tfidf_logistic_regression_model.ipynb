{
 "cells": [
  {
   "cell_type": "markdown",
   "id": "380374b6",
   "metadata": {},
   "source": [
    "# Interpreting `TfidfLogisticRegression` Model"
   ]
  },
  {
   "cell_type": "markdown",
   "id": "6916d37e",
   "metadata": {},
   "source": [
    "`TfidfLogisticRegression` has two interpretable components:\n",
    "\n",
    "* `TfidfVectorizer`\n",
    "* `LogisticRegression`\n",
    "\n",
    "🧠 Can help us understand the dataset better\n",
    "\n",
    "🧠 Can help us spot potential issues in the dataset, before we apply more complex models.\n",
    "\n",
    "💪 Start with inspecting/interpreting the `TfidfVectorizer`"
   ]
  },
  {
   "cell_type": "code",
   "execution_count": 1,
   "id": "a6a12cb5",
   "metadata": {
    "lines_to_next_cell": 2
   },
   "outputs": [],
   "source": [
    "from typing import List\n",
    "\n",
    "from sklearn.preprocessing import LabelEncoder\n",
    "\n",
    "from text_classification import defs\n",
    "from text_classification.data import Samples\n",
    "from text_classification.models import TfidfLogisticRegression"
   ]
  },
  {
   "cell_type": "markdown",
   "id": "0af85f1a",
   "metadata": {},
   "source": [
    "Get source assets."
   ]
  },
  {
   "cell_type": "code",
   "execution_count": 2,
   "id": "51fd895e",
   "metadata": {},
   "outputs": [
    {
     "name": "stderr",
     "output_type": "stream",
     "text": [
      "2023-02-12 23:33:25 +0000 - dagster - DEBUG - system - Loading file from: /Users/thomelane/Projects/text_classification/data/storage/tfidf_logistic_regression_model\n"
     ]
    }
   ],
   "source": [
    "model: TfidfLogisticRegression = defs.load_asset_value(\"tfidf_logistic_regression_model\")  # type: ignore"
   ]
  },
  {
   "cell_type": "markdown",
   "id": "d0bac857",
   "metadata": {},
   "source": [
    "## Interpret `TfidfVectorizer`"
   ]
  },
  {
   "cell_type": "markdown",
   "id": "bc896718",
   "metadata": {},
   "source": [
    "❓ What are the most common tokens in the dataset?"
   ]
  },
  {
   "cell_type": "code",
   "execution_count": 3,
   "id": "253a2f75",
   "metadata": {},
   "outputs": [],
   "source": [
    "vocab_token_to_id = model.tfidf_vectorizer.vocabulary_\n",
    "vocab_id_to_token = {v: k for k, v in vocab_token_to_id.items()}\n",
    "\n",
    "# warning: referencing global variables\n",
    "def most_common_tokens(top_k: int):\n",
    "    token_idxs = model.tfidf_vectorizer.idf_.argsort()[:top_k]\n",
    "    idfs = model.tfidf_vectorizer.idf_[token_idxs]\n",
    "    tokens = [(vocab_id_to_token[id], idf) for id, idf in zip(token_idxs, idfs)]\n",
    "    for token, idf in tokens:\n",
    "        print(f\"{idf:.2}: {token}\")"
   ]
  },
  {
   "cell_type": "code",
   "execution_count": 4,
   "id": "24768228",
   "metadata": {},
   "outputs": [
    {
     "name": "stdout",
     "output_type": "stream",
     "text": [
      "3.2: trump\n",
      "3.5: new\n",
      "3.7: photos\n",
      "3.9: just\n",
      "3.9: like\n",
      "4.0: people\n",
      "4.0: time\n",
      "4.0: year\n",
      "4.1: day\n",
      "4.1: said\n"
     ]
    }
   ],
   "source": [
    "most_common_tokens(10)"
   ]
  },
  {
   "cell_type": "markdown",
   "id": "514ce49e",
   "metadata": {},
   "source": [
    "🧠 \"Donald Trump\" seems to be one of the most common topics in the dataset.\n",
    "\n",
    "🧠 Could be that there is a category for US Politics, and that category has a lot of samples in the dataset. Maybe category G?\n",
    "\n",
    "🧠 Given the training set, we can calculate its TF-IDF matrix (similar to an embedding matrix), and inspect that."
   ]
  },
  {
   "cell_type": "code",
   "execution_count": 5,
   "id": "6c3a5208",
   "metadata": {},
   "outputs": [
    {
     "name": "stderr",
     "output_type": "stream",
     "text": [
      "2023-02-12 23:33:25 +0000 - dagster - DEBUG - system - Loading file from: /Users/thomelane/Projects/text_classification/data/storage/train_set\n"
     ]
    }
   ],
   "source": [
    "train_set: Samples = defs.load_asset_value(\"train_set\")  # type: ignore"
   ]
  },
  {
   "cell_type": "code",
   "execution_count": 6,
   "id": "3430380f",
   "metadata": {},
   "outputs": [],
   "source": [
    "# warning: referencing global variables\n",
    "def highest_weighted_tokens(category: str, top_k: int = 10):\n",
    "    samples = [s for s in train_set if s[\"category\"] == category]\n",
    "    tfidf_matrix = model.embed(samples)\n",
    "    token_weights = tfidf_matrix.sum(axis=0)\n",
    "    token_ids = token_weights.argsort()[-top_k:][::-1]\n",
    "    tokens = [vocab_id_to_token[token_id] for token_id in token_ids]\n",
    "    for token in tokens:\n",
    "        print(token)"
   ]
  },
  {
   "cell_type": "code",
   "execution_count": 7,
   "id": "2b3640ba",
   "metadata": {},
   "outputs": [
    {
     "name": "stderr",
     "output_type": "stream",
     "text": [
      "2023-02-12 23:33:25 +0000 - dagster - DEBUG - system - Loading file from: /Users/thomelane/Projects/text_classification/data/storage/label_transform\n"
     ]
    }
   ],
   "source": [
    "label_transform: LabelEncoder = defs.load_asset_value(\"label_transform\")  # type: ignore"
   ]
  },
  {
   "cell_type": "code",
   "execution_count": 8,
   "id": "5dd37d3d",
   "metadata": {},
   "outputs": [
    {
     "name": "stdout",
     "output_type": "stream",
     "text": [
      "\n",
      "### Category: A\n",
      "art\n",
      "artist\n",
      "new\n",
      "artists\n",
      "photos\n",
      "world\n",
      "book\n",
      "imageblog\n",
      "exhibition\n",
      "women\n",
      "\n",
      "### Category: B\n",
      "climate\n",
      "change\n",
      "animal\n",
      "dog\n",
      "week\n",
      "california\n",
      "world\n",
      "oil\n",
      "water\n",
      "energy\n",
      "\n",
      "### Category: C\n",
      "police\n",
      "man\n",
      "shooting\n",
      "suspect\n",
      "allegedly\n",
      "cops\n",
      "killed\n",
      "shot\n",
      "accused\n",
      "old\n",
      "\n",
      "### Category: D\n",
      "gay\n",
      "black\n",
      "new\n",
      "people\n",
      "lgbt\n",
      "queer\n",
      "trans\n",
      "transgender\n",
      "lgbtq\n",
      "community\n",
      "\n",
      "### Category: E\n",
      "wedding\n",
      "divorce\n",
      "marriage\n",
      "weddings\n",
      "married\n",
      "love\n",
      "couples\n",
      "day\n",
      "ex\n",
      "divorced\n",
      "\n",
      "### Category: F\n",
      "photos\n",
      "style\n",
      "fashion\n",
      "home\n",
      "look\n",
      "check\n",
      "week\n",
      "new\n",
      "beauty\n",
      "pinterest\n",
      "\n",
      "### Category: G\n",
      "trump\n",
      "donald\n",
      "president\n",
      "clinton\n",
      "gop\n",
      "obama\n",
      "hillary\n",
      "house\n",
      "says\n",
      "new\n",
      "\n",
      "### Category: H\n",
      "world\n",
      "korea\n",
      "isis\n",
      "north\n",
      "war\n",
      "people\n",
      "government\n",
      "president\n",
      "iran\n",
      "country\n",
      "\n",
      "### Category: I\n",
      "man\n",
      "watch\n",
      "woman\n",
      "dog\n",
      "just\n",
      "cat\n",
      "weird\n",
      "people\n",
      "police\n",
      "cops\n",
      "\n",
      "### Category: J\n",
      "kids\n",
      "parents\n",
      "children\n",
      "mom\n",
      "baby\n",
      "child\n",
      "year\n",
      "time\n",
      "parenting\n",
      "day\n"
     ]
    }
   ],
   "source": [
    "categories: List[str] = label_transform.label_encoder.classes_  # type: ignore\n",
    "for category in categories:\n",
    "    print(f\"\\n### Category: {category}\")\n",
    "    highest_weighted_tokens(category, top_k=10)"
   ]
  },
  {
   "cell_type": "markdown",
   "id": "95cedd91",
   "metadata": {},
   "source": [
    "🧠 Quite distinct topics are observed.\n",
    "\n",
    "👍 Seems that TF-IDF is giving sensible features, that can be used by the `LogisticRegression`.\n",
    "\n",
    "❓ Is the `LogisticRegression` model using these features as we would expect?"
   ]
  },
  {
   "cell_type": "markdown",
   "id": "89140912",
   "metadata": {
    "lines_to_next_cell": 2
   },
   "source": [
    "## Interpret `LogisticRegression`"
   ]
  },
  {
   "cell_type": "code",
   "execution_count": 9,
   "id": "c9a95324",
   "metadata": {},
   "outputs": [],
   "source": [
    "# warning: referencing global variables\n",
    "def most_influential_tokens(category: str, top_k: int = 10):\n",
    "    class_idx = label_transform.label_encoder.transform([category])[0]\n",
    "    token_ids = model.logistic_regression.coef_[class_idx].argsort()[-top_k:][::-1]\n",
    "    tokens = [vocab_id_to_token[token_id] for token_id in token_ids]\n",
    "    for token in tokens:\n",
    "        print(token)"
   ]
  },
  {
   "cell_type": "code",
   "execution_count": 10,
   "id": "24c939f2",
   "metadata": {
    "lines_to_next_cell": 2
   },
   "outputs": [
    {
     "name": "stdout",
     "output_type": "stream",
     "text": [
      "\n",
      "### Category: A\n",
      "art\n",
      "artist\n",
      "artists\n",
      "imageblog\n",
      "arts\n",
      "theatre\n",
      "book\n",
      "exhibition\n",
      "theater\n",
      "nighter\n",
      "\n",
      "### Category: B\n",
      "climate\n",
      "animal\n",
      "dog\n",
      "oil\n",
      "animals\n",
      "nature\n",
      "california\n",
      "environmental\n",
      "earth\n",
      "coal\n",
      "\n",
      "### Category: C\n",
      "shooting\n",
      "police\n",
      "allegedly\n",
      "murder\n",
      "cops\n",
      "accused\n",
      "man\n",
      "shooter\n",
      "prison\n",
      "arrested\n",
      "\n",
      "### Category: D\n",
      "gay\n",
      "queer\n",
      "black\n",
      "lgbtq\n",
      "lgbt\n",
      "trans\n",
      "transgender\n",
      "latino\n",
      "lesbian\n",
      "latinos\n",
      "\n",
      "### Category: E\n",
      "divorce\n",
      "wedding\n",
      "marriage\n",
      "divorced\n",
      "weddings\n",
      "married\n",
      "ex\n",
      "bride\n",
      "proposal\n",
      "single\n",
      "\n",
      "### Category: F\n",
      "photos\n",
      "fashion\n",
      "style\n",
      "beauty\n",
      "home\n",
      "hair\n",
      "makeup\n",
      "photo\n",
      "model\n",
      "kate\n",
      "\n",
      "### Category: G\n",
      "trump\n",
      "gop\n",
      "obama\n",
      "democrats\n",
      "republicans\n",
      "senate\n",
      "clinton\n",
      "congress\n",
      "bush\n",
      "republican\n",
      "\n",
      "### Category: H\n",
      "isis\n",
      "korea\n",
      "greece\n",
      "israeli\n",
      "government\n",
      "india\n",
      "saudi\n",
      "migrants\n",
      "china\n",
      "iran\n",
      "\n",
      "### Category: I\n",
      "man\n",
      "weird\n",
      "cat\n",
      "watch\n",
      "ufo\n",
      "cops\n",
      "dog\n",
      "weirdest\n",
      "shark\n",
      "woman\n",
      "\n",
      "### Category: J\n",
      "kids\n",
      "parenting\n",
      "children\n",
      "mom\n",
      "baby\n",
      "parents\n",
      "daughter\n",
      "breastfeeding\n",
      "babies\n",
      "moms\n"
     ]
    }
   ],
   "source": [
    "for category in categories:\n",
    "    print(f\"\\n### Category: {category}\")\n",
    "    most_influential_tokens(category, top_k=10)"
   ]
  },
  {
   "cell_type": "markdown",
   "id": "1589c26e",
   "metadata": {},
   "source": [
    "👍 Yes, `LogisticRegression` is using the TF-IDF vectors in a sensible way.\n",
    "\n",
    "🧠 We get a very clear view on which tokens contribute to a prediction for each category.\n",
    "\n",
    "🧠 So good that we can take an attempt at manual category labelling."
   ]
  },
  {
   "cell_type": "code",
   "execution_count": 11,
   "id": "5cc7eb26",
   "metadata": {},
   "outputs": [],
   "source": [
    "class_labels = {\n",
    "    \"A\": \"Art\",\n",
    "    \"B\": \"Environment\",\n",
    "    \"C\": \"Crime\",\n",
    "    \"D\": \"Diversity\",\n",
    "    \"E\": \"Relationship\",\n",
    "    \"F\": \"Fashion\",\n",
    "    \"G\": \"US Politics\",\n",
    "    \"H\": \"Foreign Affairs\",\n",
    "    \"I\": \"Bizarre\",\n",
    "    \"J\": \"Parenting\"\n",
    "}"
   ]
  },
  {
   "cell_type": "markdown",
   "id": "7d35b8de",
   "metadata": {},
   "source": [
    "💡 Can give the model some test inputs to get an intuitive feel for the performance."
   ]
  },
  {
   "cell_type": "code",
   "execution_count": 12,
   "id": "cbc247fa",
   "metadata": {},
   "outputs": [],
   "source": [
    "def predict(headline: str, short_description: str):\n",
    "    y_pred = model.predict([{\n",
    "        \"headline\": headline,\n",
    "        \"short_description\": short_description\n",
    "    }])[0]\n",
    "    class_label = class_labels[categories[y_pred]]\n",
    "    print(class_label)"
   ]
  },
  {
   "cell_type": "code",
   "execution_count": 13,
   "id": "1ee774d7",
   "metadata": {},
   "outputs": [
    {
     "name": "stdout",
     "output_type": "stream",
     "text": [
      "Art\n"
     ]
    }
   ],
   "source": [
    "predict(\n",
    "    headline=\"Renowned Artist Announces New Collection Inspired by Nature\",\n",
    "    short_description=\"The latest works by this celebrated artist explore the beauty of the natural world.\"\n",
    ")"
   ]
  },
  {
   "cell_type": "code",
   "execution_count": 14,
   "id": "3bf646b0",
   "metadata": {},
   "outputs": [
    {
     "name": "stdout",
     "output_type": "stream",
     "text": [
      "US Politics\n"
     ]
    }
   ],
   "source": [
    "predict(\n",
    "    headline=\"World Shocked as Giant Hamster Takes Over as Ruler of Tiny European Country\",\n",
    "    short_description=\"Giant hamster becomes surprise ruler of small European country, leaving the world in disbelief and sparking debates on unconventional leadership.\"\n",
    ")"
   ]
  },
  {
   "cell_type": "markdown",
   "id": "5fe8ee08",
   "metadata": {},
   "source": [
    "🧠 Was trying some examples at the border of categories to explore the decision boundary.\n",
    "\n",
    "💪 Should look at failure cases. Will do that in a model evaluation report."
   ]
  }
 ],
 "metadata": {
  "jupytext": {
   "cell_metadata_filter": "-all",
   "main_language": "python",
   "notebook_metadata_filter": "-all"
  },
  "kernelspec": {
   "display_name": "Python 3 (ipykernel)",
   "language": "python",
   "name": "python3"
  },
  "language_info": {
   "codemirror_mode": {
    "name": "ipython",
    "version": 3
   },
   "file_extension": ".py",
   "mimetype": "text/x-python",
   "name": "python",
   "nbconvert_exporter": "python",
   "pygments_lexer": "ipython3",
   "version": "3.10.8"
  }
 },
 "nbformat": 4,
 "nbformat_minor": 5
}
